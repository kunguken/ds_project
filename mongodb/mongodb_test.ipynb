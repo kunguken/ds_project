{
 "cells": [
  {
   "cell_type": "markdown",
   "metadata": {},
   "source": [
    "### Distributed data analysis basics\n",
    "\n",
    "1. Computing framework: Spark, Hadoop MapReduce\n",
    "2. Database: MongoDB, SQL, HDFS, Cassandra, Hbase\n",
    "3. Nodes: single machine, multiple nodes on VMs\n",
    "4. Dataset: Titanic dataset for inital step"
   ]
  },
  {
   "cell_type": "markdown",
   "metadata": {},
   "source": [
    "### Part1 - Run on single machine with Spark, MongoDB"
   ]
  },
  {
   "cell_type": "code",
   "execution_count": 1,
   "metadata": {
    "collapsed": false
   },
   "outputs": [],
   "source": [
    "from pyspark.sql.types import *\n",
    "import pprint\n",
    "\n",
    "from spark_obj import SparkMongoDB, SparkLocal\n",
    "import utils"
   ]
  },
  {
   "cell_type": "code",
   "execution_count": 2,
   "metadata": {
    "collapsed": false
   },
   "outputs": [],
   "source": [
    "dbname = 'titanic'\n",
    "f_train = 'data/train.csv'\n",
    "f_test = 'data/test.csv'\n",
    "numeric_fields = ['Survived', 'Age', 'Pclass', 'SibSp', 'Parch', 'Fare']\n",
    "text_fields = ['Name', 'Sex', 'Ticket', 'Cabin', 'Embarked']\n",
    "\n",
    "db = utils.create_db(dbname, drop_on_exist=True)"
   ]
  },
  {
   "cell_type": "markdown",
   "metadata": {},
   "source": [
    "#### Define datatype for each column, so that the correct types can be read in with csv reader"
   ]
  },
  {
   "cell_type": "code",
   "execution_count": 3,
   "metadata": {
    "collapsed": true
   },
   "outputs": [],
   "source": [
    "# PassengerId,Survived,Pclass,Name,Sex,Age,SibSp,Parch,Ticket,Fare,Cabin,Embarked\n",
    "col_types_train = [str, int, int, str, str, float, int, int, str,float, str, str]\n",
    "# PassengerId,Pclass,Name,Sex,Age,SibSp,Parch,Ticket,Fare,Cabin,Embarked\n",
    "col_types_test = [str, int, str, str, float, int, int, str,float, str, str]"
   ]
  },
  {
   "cell_type": "code",
   "execution_count": 4,
   "metadata": {
    "collapsed": true
   },
   "outputs": [],
   "source": [
    "def load_all_data(db, coll_name):\n",
    "    # read all items from collection 'train', which is a list of dictionaries\n",
    "    train_docs = utils.read_from_collection(db, coll_name)\n",
    "\n",
    "    spark = SparkLocal()\n",
    "    df = spark.create_dataframe(train_docs)\n",
    "    return spark, df\n",
    "\n",
    "def load_with_mongodb_connector(dbname, coll_name):\n",
    "    spark = SparkMongoDB(dbname, coll_name)\n",
    "    df = spark.create_dataframe()\n",
    "    return spark, df"
   ]
  },
  {
   "cell_type": "markdown",
   "metadata": {},
   "source": [
    "#### Save dataset read from csv files into MongoDB:\n",
    "- database name: 'titanic'\n",
    "- collections: 'train', 'test'"
   ]
  },
  {
   "cell_type": "code",
   "execution_count": 5,
   "metadata": {
    "collapsed": false
   },
   "outputs": [],
   "source": [
    "utils.insert_to_collection(db, 'train', utils.read_from_csvfile(f_train, col_types_train))\n",
    "utils.insert_to_collection(db, 'test', utils.read_from_csvfile(f_test, col_types_test))"
   ]
  },
  {
   "cell_type": "markdown",
   "metadata": {},
   "source": [
    "#### Verify data in database"
   ]
  },
  {
   "cell_type": "code",
   "execution_count": 6,
   "metadata": {
    "collapsed": false
   },
   "outputs": [
    {
     "name": "stdout",
     "output_type": "stream",
     "text": [
      "Total docs in colection 'train': 891\n",
      "The first doc:\n",
      "{u'Fare': 7.25, u'Name': u'Braund, Mr. Owen Harris', u'Embarked': u'S', u'Age': 22.0, u'Parch': 0, u'Pclass': 3, u'Sex': u'male', u'Survived': 0, u'SibSp': 1, u'_id': ObjectId('590e3b32201f213eba4285bd'), u'PassengerId': u'1', u'Ticket': u'A/5 21171', u'Cabin': None}\n"
     ]
    }
   ],
   "source": [
    "print \"Total docs in colection 'train': {}\".format(db.train.count())\n",
    "train_doc = db.train.find_one()\n",
    "print \"The first doc:\\n{}\".format(train_doc)"
   ]
  },
  {
   "cell_type": "code",
   "execution_count": 7,
   "metadata": {
    "collapsed": false
   },
   "outputs": [
    {
     "name": "stdout",
     "output_type": "stream",
     "text": [
      "Total docs in colection 'test': 418\n",
      "The first doc:\n",
      "{u'Fare': 7.8292, u'Name': u'Kelly, Mr. James', u'Embarked': u'Q', u'Age': 34.5, u'Parch': 0, u'Pclass': 3, u'Sex': u'male', u'SibSp': 0, u'_id': ObjectId('590e3b32201f213eba428938'), u'PassengerId': u'892', u'Ticket': u'330911', u'Cabin': None}\n"
     ]
    }
   ],
   "source": [
    "print \"Total docs in colection 'test': {}\".format(db.test.count())\n",
    "test_doc = db.test.find_one()\n",
    "print \"The first doc:\\n{}\".format(test_doc)"
   ]
  },
  {
   "cell_type": "markdown",
   "metadata": {},
   "source": [
    "#### Read the whole training data from MongoDB, and create a sparkSession and a pyspark dataframe"
   ]
  },
  {
   "cell_type": "code",
   "execution_count": 8,
   "metadata": {
    "collapsed": false
   },
   "outputs": [
    {
     "name": "stdout",
     "output_type": "stream",
     "text": [
      "891\n"
     ]
    }
   ],
   "source": [
    "coll_name = 'train'\n",
    "# spark-submit run.py\n",
    "spark, df = load_all_data(db, coll_name)\n",
    "print df.count()"
   ]
  },
  {
   "cell_type": "markdown",
   "metadata": {},
   "source": [
    "#### Create pyspark dataframe with the data"
   ]
  },
  {
   "cell_type": "code",
   "execution_count": 9,
   "metadata": {
    "collapsed": false
   },
   "outputs": [
    {
     "name": "stdout",
     "output_type": "stream",
     "text": [
      "root\n",
      " |-- Age: double (nullable = true)\n",
      " |-- Cabin: string (nullable = true)\n",
      " |-- Embarked: string (nullable = true)\n",
      " |-- Fare: double (nullable = true)\n",
      " |-- Name: string (nullable = true)\n",
      " |-- Parch: long (nullable = true)\n",
      " |-- PassengerId: string (nullable = true)\n",
      " |-- Pclass: long (nullable = true)\n",
      " |-- Sex: string (nullable = true)\n",
      " |-- SibSp: long (nullable = true)\n",
      " |-- Survived: long (nullable = true)\n",
      " |-- Ticket: string (nullable = true)\n",
      "\n"
     ]
    }
   ],
   "source": [
    "df.printSchema()"
   ]
  },
  {
   "cell_type": "code",
   "execution_count": 10,
   "metadata": {
    "collapsed": false
   },
   "outputs": [
    {
     "data": {
      "text/plain": [
       "[Row(Age=22.0, Cabin=None, Embarked=u'S', Fare=7.25, Name=u'Braund, Mr. Owen Harris', Parch=0, PassengerId=u'1', Pclass=3, Sex=u'male', SibSp=1, Survived=0, Ticket=u'A/5 21171'),\n",
       " Row(Age=38.0, Cabin=u'C85', Embarked=u'C', Fare=71.2833, Name=u'Cumings, Mrs. John Bradley (Florence Briggs Thayer)', Parch=0, PassengerId=u'2', Pclass=1, Sex=u'female', SibSp=1, Survived=1, Ticket=u'PC 17599')]"
      ]
     },
     "execution_count": 10,
     "metadata": {},
     "output_type": "execute_result"
    }
   ],
   "source": [
    "df.take(2)"
   ]
  },
  {
   "cell_type": "markdown",
   "metadata": {},
   "source": [
    "#### Print the stats"
   ]
  },
  {
   "cell_type": "code",
   "execution_count": 11,
   "metadata": {
    "collapsed": false
   },
   "outputs": [
    {
     "data": {
      "text/html": [
       "<div>\n",
       "<table border=\"1\" class=\"dataframe\">\n",
       "  <thead>\n",
       "    <tr style=\"text-align: right;\">\n",
       "      <th></th>\n",
       "      <th>0</th>\n",
       "      <th>1</th>\n",
       "      <th>2</th>\n",
       "      <th>3</th>\n",
       "      <th>4</th>\n",
       "    </tr>\n",
       "  </thead>\n",
       "  <tbody>\n",
       "    <tr>\n",
       "      <th>summary</th>\n",
       "      <td>count</td>\n",
       "      <td>mean</td>\n",
       "      <td>stddev</td>\n",
       "      <td>min</td>\n",
       "      <td>max</td>\n",
       "    </tr>\n",
       "    <tr>\n",
       "      <th>Age</th>\n",
       "      <td>714</td>\n",
       "      <td>29.69911764705882</td>\n",
       "      <td>14.52649733233404</td>\n",
       "      <td>0.42</td>\n",
       "      <td>80.0</td>\n",
       "    </tr>\n",
       "    <tr>\n",
       "      <th>Cabin</th>\n",
       "      <td>204</td>\n",
       "      <td>None</td>\n",
       "      <td>None</td>\n",
       "      <td>A10</td>\n",
       "      <td>T</td>\n",
       "    </tr>\n",
       "    <tr>\n",
       "      <th>Embarked</th>\n",
       "      <td>889</td>\n",
       "      <td>None</td>\n",
       "      <td>None</td>\n",
       "      <td>C</td>\n",
       "      <td>S</td>\n",
       "    </tr>\n",
       "    <tr>\n",
       "      <th>Fare</th>\n",
       "      <td>891</td>\n",
       "      <td>32.20420796857464</td>\n",
       "      <td>49.69342859718091</td>\n",
       "      <td>0.0</td>\n",
       "      <td>512.3292</td>\n",
       "    </tr>\n",
       "    <tr>\n",
       "      <th>Name</th>\n",
       "      <td>891</td>\n",
       "      <td>None</td>\n",
       "      <td>None</td>\n",
       "      <td>Abbing, Mr. Anthony</td>\n",
       "      <td>van Melkebeke, Mr. Philemon</td>\n",
       "    </tr>\n",
       "    <tr>\n",
       "      <th>Parch</th>\n",
       "      <td>891</td>\n",
       "      <td>0.38159371492704824</td>\n",
       "      <td>0.8060572211299483</td>\n",
       "      <td>0</td>\n",
       "      <td>6</td>\n",
       "    </tr>\n",
       "    <tr>\n",
       "      <th>PassengerId</th>\n",
       "      <td>891</td>\n",
       "      <td>446.0</td>\n",
       "      <td>257.3538420152301</td>\n",
       "      <td>1</td>\n",
       "      <td>99</td>\n",
       "    </tr>\n",
       "    <tr>\n",
       "      <th>Pclass</th>\n",
       "      <td>891</td>\n",
       "      <td>2.308641975308642</td>\n",
       "      <td>0.836071240977049</td>\n",
       "      <td>1</td>\n",
       "      <td>3</td>\n",
       "    </tr>\n",
       "    <tr>\n",
       "      <th>Sex</th>\n",
       "      <td>891</td>\n",
       "      <td>None</td>\n",
       "      <td>None</td>\n",
       "      <td>female</td>\n",
       "      <td>male</td>\n",
       "    </tr>\n",
       "    <tr>\n",
       "      <th>SibSp</th>\n",
       "      <td>891</td>\n",
       "      <td>0.5230078563411896</td>\n",
       "      <td>1.1027434322934317</td>\n",
       "      <td>0</td>\n",
       "      <td>8</td>\n",
       "    </tr>\n",
       "    <tr>\n",
       "      <th>Survived</th>\n",
       "      <td>891</td>\n",
       "      <td>0.3838383838383838</td>\n",
       "      <td>0.48659245426485737</td>\n",
       "      <td>0</td>\n",
       "      <td>1</td>\n",
       "    </tr>\n",
       "    <tr>\n",
       "      <th>Ticket</th>\n",
       "      <td>891</td>\n",
       "      <td>260318.54916792738</td>\n",
       "      <td>471609.26868834975</td>\n",
       "      <td>110152</td>\n",
       "      <td>WE/P 5735</td>\n",
       "    </tr>\n",
       "  </tbody>\n",
       "</table>\n",
       "</div>"
      ],
      "text/plain": [
       "                 0                    1                    2  \\\n",
       "summary      count                 mean               stddev   \n",
       "Age            714    29.69911764705882    14.52649733233404   \n",
       "Cabin          204                 None                 None   \n",
       "Embarked       889                 None                 None   \n",
       "Fare           891    32.20420796857464    49.69342859718091   \n",
       "Name           891                 None                 None   \n",
       "Parch          891  0.38159371492704824   0.8060572211299483   \n",
       "PassengerId    891                446.0    257.3538420152301   \n",
       "Pclass         891    2.308641975308642    0.836071240977049   \n",
       "Sex            891                 None                 None   \n",
       "SibSp          891   0.5230078563411896   1.1027434322934317   \n",
       "Survived       891   0.3838383838383838  0.48659245426485737   \n",
       "Ticket         891   260318.54916792738   471609.26868834975   \n",
       "\n",
       "                               3                            4  \n",
       "summary                      min                          max  \n",
       "Age                         0.42                         80.0  \n",
       "Cabin                        A10                            T  \n",
       "Embarked                       C                            S  \n",
       "Fare                         0.0                     512.3292  \n",
       "Name         Abbing, Mr. Anthony  van Melkebeke, Mr. Philemon  \n",
       "Parch                          0                            6  \n",
       "PassengerId                    1                           99  \n",
       "Pclass                         1                            3  \n",
       "Sex                       female                         male  \n",
       "SibSp                          0                            8  \n",
       "Survived                       0                            1  \n",
       "Ticket                    110152                    WE/P 5735  "
      ]
     },
     "execution_count": 11,
     "metadata": {},
     "output_type": "execute_result"
    }
   ],
   "source": [
    "df.describe().toPandas().transpose()"
   ]
  },
  {
   "cell_type": "markdown",
   "metadata": {},
   "source": [
    "#### Get summary statistics for both numeric and text fields\n",
    "The dataset is not cleaned, so the results are a bit messive here."
   ]
  },
  {
   "cell_type": "code",
   "execution_count": 14,
   "metadata": {
    "collapsed": false
   },
   "outputs": [
    {
     "name": "stdout",
     "output_type": "stream",
     "text": [
      "\n",
      "Field: Fare\n",
      "{'max': 512.3292, 'mean': 32.20420796857464, 'median': 23.0, 'min': 0.0}\n",
      "\n",
      "Field: SibSp\n",
      "{'max': 8, 'mean': 0.5230078563411896, 'median': 0.0, 'min': 0}\n",
      "\n",
      "Field: Survived\n",
      "{'max': 1, 'mean': 0.3838383838383838, 'median': 0.0, 'min': 0}\n",
      "\n",
      "Field: Age\n",
      "{'max': 80.0, 'mean': 29.69911764705882, 'median': 28.0, 'min': 0.42}\n",
      "\n",
      "Field: Parch\n",
      "{'max': 6, 'mean': 0.38159371492704824, 'median': 0.0, 'min': 0}\n",
      "\n",
      "Field: Pclass\n",
      "{'max': 3, 'mean': 2.308641975308642, 'median': 3.0, 'min': 1}\n",
      "\n",
      "Field: Ticket\n",
      "{'max': (u'PC', 60),\n",
      " 'min': (u'3101317', 1),\n",
      " 'word_counts': [(u'PC', 60),\n",
      "                 (u'C.A.', 27),\n",
      "                 (u'2.', 12),\n",
      "                 (u'STON/O', 12),\n",
      "                 (u'A/5', 10),\n",
      "                 (u'W./C.', 9),\n",
      "                 (u'SOTON/O.Q.', 8),\n",
      "                 (u'CA.', 8),\n",
      "                 (u'SOTON/OQ', 7),\n",
      "                 (u'347082', 7),\n",
      "                 '...',\n",
      "                 (u'39886', 1),\n",
      "                 (u'3536', 1),\n",
      "                 (u'20589', 1),\n",
      "                 (u'3235', 1),\n",
      "                 (u'2625', 1),\n",
      "                 (u'347089', 1),\n",
      "                 (u'392090', 1),\n",
      "                 (u'312991', 1),\n",
      "                 (u'28206', 1),\n",
      "                 (u'3101317', 1)]}\n",
      "\n",
      "Field: Sex\n",
      "{'max': (u'male', 577),\n",
      " 'min': (u'female', 314),\n",
      " 'word_counts': [(u'male', 577), (u'female', 314)]}\n",
      "\n",
      "Field: Name\n",
      "{'max': (u'Mr.', 517),\n",
      " 'min': (u'Rush,', 1),\n",
      " 'word_counts': [(u'Mr.', 517),\n",
      "                 (u'Miss.', 182),\n",
      "                 (u'Mrs.', 125),\n",
      "                 (u'William', 62),\n",
      "                 (u'John', 44),\n",
      "                 (u'Master.', 40),\n",
      "                 (u'Henry', 33),\n",
      "                 (u'James', 24),\n",
      "                 (u'Charles', 23),\n",
      "                 (u'George', 22),\n",
      "                 '...',\n",
      "                 (u'Hoffman\")', 1),\n",
      "                 (u'Yoto', 1),\n",
      "                 (u'Cairns,', 1),\n",
      "                 (u'Greenberg,', 1),\n",
      "                 (u'Waelens,', 1),\n",
      "                 (u'Ward,', 1),\n",
      "                 (u'Emile', 1),\n",
      "                 (u'Fleming', 1),\n",
      "                 (u'Viljami', 1),\n",
      "                 (u'Rush,', 1)]}\n",
      "\n",
      "Field: Cabin\n",
      "{'max': ('MissingValue', 687),\n",
      " 'min': (u'C103', 1),\n",
      " 'word_counts': [('MissingValue', 687),\n",
      "                 (u'B96', 4),\n",
      "                 (u'C27', 4),\n",
      "                 (u'G6', 4),\n",
      "                 (u'C23', 4),\n",
      "                 (u'B98', 4),\n",
      "                 (u'C25', 4),\n",
      "                 (u'F', 4),\n",
      "                 (u'C26', 3),\n",
      "                 (u'C22', 3),\n",
      "                 '...',\n",
      "                 (u'A16', 1),\n",
      "                 (u'B42', 1),\n",
      "                 (u'A23', 1),\n",
      "                 (u'E12', 1),\n",
      "                 (u'B73', 1),\n",
      "                 (u'E63', 1),\n",
      "                 (u'D48', 1),\n",
      "                 (u'D9', 1),\n",
      "                 (u'C90', 1),\n",
      "                 (u'C103', 1)]}\n",
      "\n",
      "Field: Embarked\n",
      "{'max': (u'S', 644),\n",
      " 'min': ('MissingValue', 2),\n",
      " 'word_counts': [(u'S', 644), (u'C', 168), (u'Q', 77), ('MissingValue', 2)]}\n"
     ]
    }
   ],
   "source": [
    "stats_numeric = spark.get_stats_summary_numeric_fields(df, numeric_fields)\n",
    "utils.pretty_print_stats(stats_numeric)\n",
    "stats_text = spark.get_stats_summary_text_fields(df, text_fields)\n",
    "utils.pretty_print_stats(stats_text)"
   ]
  },
  {
   "cell_type": "markdown",
   "metadata": {},
   "source": [
    "#### Print correlation matrix for numeric columns"
   ]
  },
  {
   "cell_type": "code",
   "execution_count": null,
   "metadata": {
    "collapsed": false
   },
   "outputs": [],
   "source": [
    "corr_matrix = spark.get_correlation_matrix(df, numeric_fields)\n",
    "df_corr = utils.create_pandas_dataframe(corr_matrix, numeric_fields, numeric_fields)\n",
    "print df_corr"
   ]
  },
  {
   "cell_type": "markdown",
   "metadata": {},
   "source": [
    "#### Print covariance matrix for numeric columns"
   ]
  },
  {
   "cell_type": "code",
   "execution_count": null,
   "metadata": {
    "collapsed": false
   },
   "outputs": [],
   "source": [
    "cov_matrix = spark.get_covariance_matrix(df, numeric_fields)\n",
    "df_cov = utils.create_pandas_dataframe(cov_matrix, numeric_fields, numeric_fields)\n",
    "print df_cov"
   ]
  },
  {
   "cell_type": "code",
   "execution_count": null,
   "metadata": {
    "collapsed": true
   },
   "outputs": [],
   "source": []
  }
 ],
 "metadata": {
  "anaconda-cloud": {},
  "kernelspec": {
   "display_name": "Python [conda env:dsi_0]",
   "language": "python",
   "name": "conda-env-dsi_0-py"
  },
  "language_info": {
   "codemirror_mode": {
    "name": "ipython",
    "version": 2
   },
   "file_extension": ".py",
   "mimetype": "text/x-python",
   "name": "python",
   "nbconvert_exporter": "python",
   "pygments_lexer": "ipython2",
   "version": "2.7.13"
  }
 },
 "nbformat": 4,
 "nbformat_minor": 1
}
