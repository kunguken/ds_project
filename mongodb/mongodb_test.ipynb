{
 "cells": [
  {
   "cell_type": "markdown",
   "metadata": {},
   "source": [
    "### Distributed data analysis basics\n",
    "\n",
    "1. Computing framework: Spark, Hadoop MapReduce\n",
    "2. Database: MongoDB, SQL, HDFS, Cassandra, Hbase\n",
    "3. Nodes: single machine, multiple nodes on VMs\n",
    "4. Dataset: Titanic dataset for inital step"
   ]
  },
  {
   "cell_type": "markdown",
   "metadata": {},
   "source": [
    "### Part1 - Run on single machine with Spark, MongoDB"
   ]
  },
  {
   "cell_type": "code",
   "execution_count": 38,
   "metadata": {
    "collapsed": false
   },
   "outputs": [
    {
     "name": "stdout",
     "output_type": "stream",
     "text": [
      "The autoreload extension is already loaded. To reload it, use:\n",
      "  %reload_ext autoreload\n"
     ]
    }
   ],
   "source": [
    "# from pyspark.sql.types import *\n",
    "import pandas as pd\n",
    "# import pprint\n",
    "from spark_obj import SparkMongoDB, SparkLocal\n",
    "import utils\n",
    "\n",
    "%load_ext autoreload\n",
    "%autoreload 2\n",
    "%matplotlib inline"
   ]
  },
  {
   "cell_type": "code",
   "execution_count": 2,
   "metadata": {
    "collapsed": true
   },
   "outputs": [],
   "source": [
    "pd.set_option(\"display.max_rows\",999)\n",
    "pd.set_option(\"display.max_columns\",999)"
   ]
  },
  {
   "cell_type": "code",
   "execution_count": 14,
   "metadata": {
    "collapsed": false
   },
   "outputs": [],
   "source": [
    "dbname = 'titanic'\n",
    "f_train = 'data/train.csv'\n",
    "f_test = 'data/test.csv'\n",
    "numeric_fields = ['Survived', 'Age', 'Pclass', 'SibSp', 'Parch', 'Fare']\n",
    "text_fields = ['Name', 'Sex', 'Ticket', 'Cabin', 'Embarked']\n",
    "\n",
    "db = utils.get_or_create_db(dbname, drop_on_exist=True)"
   ]
  },
  {
   "cell_type": "markdown",
   "metadata": {},
   "source": [
    "#### Define datatype for each column, so that the correct types can be read in when using csv reader"
   ]
  },
  {
   "cell_type": "code",
   "execution_count": 4,
   "metadata": {
    "collapsed": true
   },
   "outputs": [],
   "source": [
    "# PassengerId,Survived,Pclass,Name,Sex,Age,SibSp,Parch,Ticket,Fare,Cabin,Embarked\n",
    "col_types_train = [str, int, int, str, str, float, int, int, str, float, str, str]\n",
    "# PassengerId,Pclass,Name,Sex,Age,SibSp,Parch,Ticket,Fare,Cabin,Embarked\n",
    "col_types_test = [str, int, str, str, float, int, int, str, float, str, str]"
   ]
  },
  {
   "cell_type": "code",
   "execution_count": 5,
   "metadata": {
    "collapsed": true
   },
   "outputs": [],
   "source": [
    "def load_all_data(db, coll_name):\n",
    "    # read all items from collection 'train', which is a list of dictionaries\n",
    "    train_docs = utils.read_from_collection(db, coll_name)\n",
    "\n",
    "    spark = SparkLocal()\n",
    "    df = spark.create_dataframe(train_docs)\n",
    "    return spark, df\n",
    "\n",
    "def load_with_mongodb_connector(dbname, coll_name):\n",
    "    spark = SparkMongoDB(dbname, coll_name)\n",
    "    df = spark.create_dataframe()\n",
    "    return spark, df"
   ]
  },
  {
   "cell_type": "markdown",
   "metadata": {},
   "source": [
    "#### Save dataset read from csv files into MongoDB:\n",
    "- database name: 'titanic'\n",
    "- collections: 'train', 'test'"
   ]
  },
  {
   "cell_type": "code",
   "execution_count": 6,
   "metadata": {
    "collapsed": false
   },
   "outputs": [],
   "source": [
    "utils.insert_to_collection(db, 'train', utils.read_from_csvfile(f_train, col_types_train))\n",
    "utils.insert_to_collection(db, 'test', utils.read_from_csvfile(f_test, col_types_test))"
   ]
  },
  {
   "cell_type": "markdown",
   "metadata": {},
   "source": [
    "#### Verify data in database"
   ]
  },
  {
   "cell_type": "code",
   "execution_count": 7,
   "metadata": {
    "collapsed": false
   },
   "outputs": [
    {
     "name": "stdout",
     "output_type": "stream",
     "text": [
      "Total docs in colection 'train': 891\n",
      "The first doc:\n",
      "{u'Fare': 7.25, u'Name': u'Braund, Mr. Owen Harris', u'Embarked': u'S', u'Age': 22.0, u'Parch': 0, u'Pclass': 3, u'Sex': u'male', u'Survived': 0, u'SibSp': 1, u'_id': ObjectId('590e97b0201f21473f1588e0'), u'PassengerId': u'1', u'Ticket': u'A/5 21171', u'Cabin': None}\n"
     ]
    }
   ],
   "source": [
    "print \"Total docs in colection 'train': {}\".format(db.train.count())\n",
    "train_doc = db.train.find_one()\n",
    "print \"The first doc:\\n{}\".format(train_doc)"
   ]
  },
  {
   "cell_type": "code",
   "execution_count": 8,
   "metadata": {
    "collapsed": false
   },
   "outputs": [
    {
     "name": "stdout",
     "output_type": "stream",
     "text": [
      "Total docs in colection 'test': 418\n",
      "The first doc:\n",
      "{u'Fare': 7.8292, u'Name': u'Kelly, Mr. James', u'Embarked': u'Q', u'Age': 34.5, u'Parch': 0, u'Pclass': 3, u'Sex': u'male', u'SibSp': 0, u'_id': ObjectId('590e97b0201f21473f158c5b'), u'PassengerId': u'892', u'Ticket': u'330911', u'Cabin': None}\n"
     ]
    }
   ],
   "source": [
    "print \"Total docs in colection 'test': {}\".format(db.test.count())\n",
    "test_doc = db.test.find_one()\n",
    "print \"The first doc:\\n{}\".format(test_doc)"
   ]
  },
  {
   "cell_type": "markdown",
   "metadata": {},
   "source": [
    "#### Read the whole training data from MongoDB, and create a sparkSession and a pyspark dataframe"
   ]
  },
  {
   "cell_type": "code",
   "execution_count": 9,
   "metadata": {
    "collapsed": false
   },
   "outputs": [
    {
     "name": "stdout",
     "output_type": "stream",
     "text": [
      "891\n"
     ]
    }
   ],
   "source": [
    "coll_name = 'train'\n",
    "# spark-submit run.py\n",
    "spark, df = load_all_data(db, coll_name)\n",
    "print df.count()"
   ]
  },
  {
   "cell_type": "markdown",
   "metadata": {},
   "source": [
    "#### Create pyspark dataframe with the data"
   ]
  },
  {
   "cell_type": "code",
   "execution_count": 10,
   "metadata": {
    "collapsed": false
   },
   "outputs": [
    {
     "name": "stdout",
     "output_type": "stream",
     "text": [
      "root\n",
      " |-- Age: double (nullable = true)\n",
      " |-- Cabin: string (nullable = true)\n",
      " |-- Embarked: string (nullable = true)\n",
      " |-- Fare: double (nullable = true)\n",
      " |-- Name: string (nullable = true)\n",
      " |-- Parch: long (nullable = true)\n",
      " |-- PassengerId: string (nullable = true)\n",
      " |-- Pclass: long (nullable = true)\n",
      " |-- Sex: string (nullable = true)\n",
      " |-- SibSp: long (nullable = true)\n",
      " |-- Survived: long (nullable = true)\n",
      " |-- Ticket: string (nullable = true)\n",
      "\n"
     ]
    }
   ],
   "source": [
    "df.printSchema()"
   ]
  },
  {
   "cell_type": "code",
   "execution_count": 11,
   "metadata": {
    "collapsed": false
   },
   "outputs": [
    {
     "data": {
      "text/plain": [
       "[Row(Age=22.0, Cabin=None, Embarked=u'S', Fare=7.25, Name=u'Braund, Mr. Owen Harris', Parch=0, PassengerId=u'1', Pclass=3, Sex=u'male', SibSp=1, Survived=0, Ticket=u'A/5 21171'),\n",
       " Row(Age=38.0, Cabin=u'C85', Embarked=u'C', Fare=71.2833, Name=u'Cumings, Mrs. John Bradley (Florence Briggs Thayer)', Parch=0, PassengerId=u'2', Pclass=1, Sex=u'female', SibSp=1, Survived=1, Ticket=u'PC 17599')]"
      ]
     },
     "execution_count": 11,
     "metadata": {},
     "output_type": "execute_result"
    }
   ],
   "source": [
    "df.take(2)"
   ]
  },
  {
   "cell_type": "markdown",
   "metadata": {},
   "source": [
    "#### Print the stats for only numeric columns"
   ]
  },
  {
   "cell_type": "code",
   "execution_count": 12,
   "metadata": {
    "collapsed": false
   },
   "outputs": [
    {
     "data": {
      "text/html": [
       "<div>\n",
       "<table border=\"1\" class=\"dataframe\">\n",
       "  <thead>\n",
       "    <tr style=\"text-align: right;\">\n",
       "      <th></th>\n",
       "      <th>Age</th>\n",
       "      <th>Fare</th>\n",
       "      <th>Parch</th>\n",
       "      <th>Pclass</th>\n",
       "      <th>SibSp</th>\n",
       "      <th>Survived</th>\n",
       "    </tr>\n",
       "  </thead>\n",
       "  <tbody>\n",
       "    <tr>\n",
       "      <th>count</th>\n",
       "      <td>714.000000</td>\n",
       "      <td>891.000000</td>\n",
       "      <td>891.000000</td>\n",
       "      <td>891.000000</td>\n",
       "      <td>891.000000</td>\n",
       "      <td>891.000000</td>\n",
       "    </tr>\n",
       "    <tr>\n",
       "      <th>mean</th>\n",
       "      <td>29.699118</td>\n",
       "      <td>32.204208</td>\n",
       "      <td>0.381594</td>\n",
       "      <td>2.308642</td>\n",
       "      <td>0.523008</td>\n",
       "      <td>0.383838</td>\n",
       "    </tr>\n",
       "    <tr>\n",
       "      <th>std</th>\n",
       "      <td>14.526497</td>\n",
       "      <td>49.693429</td>\n",
       "      <td>0.806057</td>\n",
       "      <td>0.836071</td>\n",
       "      <td>1.102743</td>\n",
       "      <td>0.486592</td>\n",
       "    </tr>\n",
       "    <tr>\n",
       "      <th>min</th>\n",
       "      <td>0.420000</td>\n",
       "      <td>0.000000</td>\n",
       "      <td>0.000000</td>\n",
       "      <td>1.000000</td>\n",
       "      <td>0.000000</td>\n",
       "      <td>0.000000</td>\n",
       "    </tr>\n",
       "    <tr>\n",
       "      <th>25%</th>\n",
       "      <td>20.125000</td>\n",
       "      <td>7.910400</td>\n",
       "      <td>0.000000</td>\n",
       "      <td>2.000000</td>\n",
       "      <td>0.000000</td>\n",
       "      <td>0.000000</td>\n",
       "    </tr>\n",
       "    <tr>\n",
       "      <th>50%</th>\n",
       "      <td>28.000000</td>\n",
       "      <td>14.454200</td>\n",
       "      <td>0.000000</td>\n",
       "      <td>3.000000</td>\n",
       "      <td>0.000000</td>\n",
       "      <td>0.000000</td>\n",
       "    </tr>\n",
       "    <tr>\n",
       "      <th>75%</th>\n",
       "      <td>38.000000</td>\n",
       "      <td>31.000000</td>\n",
       "      <td>0.000000</td>\n",
       "      <td>3.000000</td>\n",
       "      <td>1.000000</td>\n",
       "      <td>1.000000</td>\n",
       "    </tr>\n",
       "    <tr>\n",
       "      <th>max</th>\n",
       "      <td>80.000000</td>\n",
       "      <td>512.329200</td>\n",
       "      <td>6.000000</td>\n",
       "      <td>3.000000</td>\n",
       "      <td>8.000000</td>\n",
       "      <td>1.000000</td>\n",
       "    </tr>\n",
       "  </tbody>\n",
       "</table>\n",
       "</div>"
      ],
      "text/plain": [
       "              Age        Fare       Parch      Pclass       SibSp    Survived\n",
       "count  714.000000  891.000000  891.000000  891.000000  891.000000  891.000000\n",
       "mean    29.699118   32.204208    0.381594    2.308642    0.523008    0.383838\n",
       "std     14.526497   49.693429    0.806057    0.836071    1.102743    0.486592\n",
       "min      0.420000    0.000000    0.000000    1.000000    0.000000    0.000000\n",
       "25%     20.125000    7.910400    0.000000    2.000000    0.000000    0.000000\n",
       "50%     28.000000   14.454200    0.000000    3.000000    0.000000    0.000000\n",
       "75%     38.000000   31.000000    0.000000    3.000000    1.000000    1.000000\n",
       "max     80.000000  512.329200    6.000000    3.000000    8.000000    1.000000"
      ]
     },
     "execution_count": 12,
     "metadata": {},
     "output_type": "execute_result"
    }
   ],
   "source": [
    "df.toPandas().describe()"
   ]
  },
  {
   "cell_type": "code",
   "execution_count": 37,
   "metadata": {
    "collapsed": false
   },
   "outputs": [
    {
     "data": {
      "image/png": "[encoded data removed]",
      "text/plain": [
       "<matplotlib.figure.Figure at 0x1140ec450>"
      ]
     },
     "metadata": {},
     "output_type": "display_data"
    }
   ],
   "source": [
    "utils.get_histogram(df, \"Sex\", bins=10)"
   ]
  },
  {
   "cell_type": "code",
   "execution_count": 32,
   "metadata": {
    "collapsed": false
   },
   "outputs": [
    {
     "data": {
      "text/plain": [
       "[('Age', 'double'),\n",
       " ('Cabin', 'string'),\n",
       " ('Embarked', 'string'),\n",
       " ('Fare', 'double'),\n",
       " ('Name', 'string'),\n",
       " ('Parch', 'bigint'),\n",
       " ('PassengerId', 'string'),\n",
       " ('Pclass', 'bigint'),\n",
       " ('Sex', 'string'),\n",
       " ('SibSp', 'bigint'),\n",
       " ('Survived', 'bigint'),\n",
       " ('Ticket', 'string')]"
      ]
     },
     "execution_count": 32,
     "metadata": {},
     "output_type": "execute_result"
    }
   ],
   "source": [
    "df.dtypes"
   ]
  },
  {
   "cell_type": "markdown",
   "metadata": {},
   "source": [
    "#### Get summary statistics for both numeric and text fields\n",
    "The dataset is not cleaned, so the results are a bit messive here."
   ]
  },
  {
   "cell_type": "code",
   "execution_count": 12,
   "metadata": {
    "collapsed": false
   },
   "outputs": [
    {
     "name": "stdout",
     "output_type": "stream",
     "text": [
      "\n",
      "Field: Fare\n",
      "{'max': 512.3292, 'mean': 32.20420796857464, 'median': 14.4583, 'min': 0.0}\n",
      "\n",
      "Field: SibSp\n",
      "{'max': 8, 'mean': 0.5230078563411896, 'median': 0.0, 'min': 0}\n",
      "\n",
      "Field: Survived\n",
      "{'max': 1, 'mean': 0.3838383838383838, 'median': 0.0, 'min': 0}\n",
      "\n",
      "Field: Age\n",
      "{'max': 80.0, 'mean': 29.69911764705882, 'median': 27.0, 'min': 0.42}\n",
      "\n",
      "Field: Parch\n",
      "{'max': 6, 'mean': 0.38159371492704824, 'median': 0.0, 'min': 0}\n",
      "\n",
      "Field: Pclass\n",
      "{'max': 3, 'mean': 2.308641975308642, 'median': 3.0, 'min': 1}\n",
      "\n",
      "Field: Ticket\n",
      "{'max': (u'PC', 60),\n",
      " 'min': (u'3101317', 1),\n",
      " 'unique_count': 723,\n",
      " 'word_counts': [(u'PC', 60),\n",
      "                 (u'C.A.', 27),\n",
      "                 (u'2.', 12),\n",
      "                 (u'STON/O', 12),\n",
      "                 (u'A/5', 10),\n",
      "                 (u'W./C.', 9),\n",
      "                 (u'SOTON/O.Q.', 8),\n",
      "                 (u'CA.', 8),\n",
      "                 (u'SOTON/OQ', 7),\n",
      "                 (u'347082', 7),\n",
      "                 '...',\n",
      "                 (u'39886', 1),\n",
      "                 (u'3536', 1),\n",
      "                 (u'20589', 1),\n",
      "                 (u'3235', 1),\n",
      "                 (u'2625', 1),\n",
      "                 (u'347089', 1),\n",
      "                 (u'392090', 1),\n",
      "                 (u'312991', 1),\n",
      "                 (u'28206', 1),\n",
      "                 (u'3101317', 1)]}\n",
      "\n",
      "Field: Sex\n",
      "{'max': (u'male', 577),\n",
      " 'min': (u'female', 314),\n",
      " 'unique_count': 2,\n",
      " 'word_counts': [(u'male', 577), (u'female', 314)]}\n",
      "\n",
      "Field: Name\n",
      "{'max': (u'Mr.', 517),\n",
      " 'min': (u'Rush,', 1),\n",
      " 'unique_count': 1673,\n",
      " 'word_counts': [(u'Mr.', 517),\n",
      "                 (u'Miss.', 182),\n",
      "                 (u'Mrs.', 125),\n",
      "                 (u'William', 62),\n",
      "                 (u'John', 44),\n",
      "                 (u'Master.', 40),\n",
      "                 (u'Henry', 33),\n",
      "                 (u'James', 24),\n",
      "                 (u'Charles', 23),\n",
      "                 (u'George', 22),\n",
      "                 '...',\n",
      "                 (u'Hoffman\")', 1),\n",
      "                 (u'Yoto', 1),\n",
      "                 (u'Cairns,', 1),\n",
      "                 (u'Greenberg,', 1),\n",
      "                 (u'Waelens,', 1),\n",
      "                 (u'Ward,', 1),\n",
      "                 (u'Emile', 1),\n",
      "                 (u'Fleming', 1),\n",
      "                 (u'Viljami', 1),\n",
      "                 (u'Rush,', 1)]}\n",
      "\n",
      "Field: Cabin\n",
      "{'max': ('MissingValue', 687),\n",
      " 'min': (u'C103', 1),\n",
      " 'unique_count': 162,\n",
      " 'word_counts': [('MissingValue', 687),\n",
      "                 (u'B96', 4),\n",
      "                 (u'C27', 4),\n",
      "                 (u'G6', 4),\n",
      "                 (u'C23', 4),\n",
      "                 (u'B98', 4),\n",
      "                 (u'C25', 4),\n",
      "                 (u'F', 4),\n",
      "                 (u'C26', 3),\n",
      "                 (u'C22', 3),\n",
      "                 '...',\n",
      "                 (u'A16', 1),\n",
      "                 (u'B42', 1),\n",
      "                 (u'A23', 1),\n",
      "                 (u'E12', 1),\n",
      "                 (u'B73', 1),\n",
      "                 (u'E63', 1),\n",
      "                 (u'D48', 1),\n",
      "                 (u'D9', 1),\n",
      "                 (u'C90', 1),\n",
      "                 (u'C103', 1)]}\n",
      "\n",
      "Field: Embarked\n",
      "{'max': (u'S', 644),\n",
      " 'min': ('MissingValue', 2),\n",
      " 'unique_count': 4,\n",
      " 'word_counts': [(u'S', 644), (u'C', 168), (u'Q', 77), ('MissingValue', 2)]}\n"
     ]
    }
   ],
   "source": [
    "stats_text = spark.get_stats_summary_text_fields(df, text_fields)\n",
    "utils.pretty_print_stats(stats_text)"
   ]
  },
  {
   "cell_type": "markdown",
   "metadata": {},
   "source": [
    "#### Print correlation matrix for numeric columns"
   ]
  },
  {
   "cell_type": "code",
   "execution_count": 13,
   "metadata": {
    "collapsed": false
   },
   "outputs": [
    {
     "name": "stdout",
     "output_type": "stream",
     "text": [
      "          Survived       Age    Pclass     SibSp     Parch      Fare\n",
      "Survived  1.000000  0.010539 -0.338481 -0.035322  0.081629  0.257307\n",
      "Age       0.010539  1.000000 -0.361353 -0.184664 -0.048786  0.135516\n",
      "Pclass   -0.338481 -0.361353  1.000000  0.083081  0.018443 -0.549500\n",
      "SibSp    -0.035322 -0.184664  0.083081  1.000000  0.414838  0.159651\n",
      "Parch     0.081629 -0.048786  0.018443  0.414838  1.000000  0.216225\n",
      "Fare      0.257307  0.135516 -0.549500  0.159651  0.216225  1.000000\n"
     ]
    }
   ],
   "source": [
    "corr_matrix = spark.get_correlation_matrix(df, numeric_fields)\n",
    "df_corr = utils.create_pandas_dataframe(corr_matrix, numeric_fields, numeric_fields)\n",
    "print df_corr"
   ]
  },
  {
   "cell_type": "markdown",
   "metadata": {},
   "source": [
    "#### Print covariance matrix for numeric columns"
   ]
  },
  {
   "cell_type": "code",
   "execution_count": 14,
   "metadata": {
    "collapsed": false
   },
   "outputs": [
    {
     "name": "stdout",
     "output_type": "stream",
     "text": [
      "          Survived         Age     Pclass     SibSp     Parch        Fare\n",
      "Survived  1.000000    0.090238  -0.137703 -0.018954  0.032017    6.221787\n",
      "Age       0.090238    1.000000  -5.316074 -3.583203 -0.691955  118.496316\n",
      "Pclass   -0.137703   -5.316074   1.000000  0.076599  0.012429  -22.830196\n",
      "SibSp    -0.018954   -3.583203   0.076599  1.000000  0.368739    8.748734\n",
      "Parch     0.032017   -0.691955   0.012429  0.368739  1.000000    8.661052\n",
      "Fare      6.221787  118.496316 -22.830196  8.748734  8.661052    1.000000\n"
     ]
    }
   ],
   "source": [
    "cov_matrix = spark.get_covariance_matrix(df, numeric_fields)\n",
    "df_cov = utils.create_pandas_dataframe(cov_matrix, numeric_fields, numeric_fields)\n",
    "print df_cov"
   ]
  },
  {
   "cell_type": "code",
   "execution_count": 29,
   "metadata": {
    "collapsed": true
   },
   "outputs": [],
   "source": [
    "pd.reset_option(\"display.max_rows\")\n",
    "pd.reset_option(\"display.max_columns\")"
   ]
  },
  {
   "cell_type": "code",
   "execution_count": null,
   "metadata": {
    "collapsed": true
   },
   "outputs": [],
   "source": []
  }
 ],
 "metadata": {
  "anaconda-cloud": {},
  "kernelspec": {
   "display_name": "Python 2",
   "language": "python",
   "name": "python2"
  },
  "language_info": {
   "codemirror_mode": {
    "name": "ipython",
    "version": 2
   },
   "file_extension": ".py",
   "mimetype": "text/x-python",
   "name": "python",
   "nbconvert_exporter": "python",
   "pygments_lexer": "ipython2",
   "version": "2.7.13"
  }
 },
 "nbformat": 4,
 "nbformat_minor": 1
}
